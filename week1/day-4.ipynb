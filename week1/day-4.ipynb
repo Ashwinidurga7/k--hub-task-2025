{
 "cells": [
  {
   "cell_type": "code",
   "execution_count": 1,
   "id": "c604c56b",
   "metadata": {},
   "outputs": [
    {
     "name": "stdout",
     "output_type": "stream",
     "text": [
      "10\n",
      "20\n"
     ]
    }
   ],
   "source": [
    "def add(a,b):\n",
    "    print(a)\n",
    "    print(b)\n",
    "a=10\n",
    "b=20\n",
    "add(a,b)"
   ]
  },
  {
   "cell_type": "code",
   "execution_count": 2,
   "id": "e6376ea8",
   "metadata": {},
   "outputs": [
    {
     "name": "stdout",
     "output_type": "stream",
     "text": [
      "20\n",
      "10\n"
     ]
    }
   ],
   "source": [
    "def add(a,b):\n",
    "    print(a)\n",
    "    print(b)\n",
    "a=10\n",
    "b=20\n",
    "add(b,a)"
   ]
  },
  {
   "cell_type": "code",
   "execution_count": 1,
   "id": "266f54e3",
   "metadata": {},
   "outputs": [
    {
     "name": "stdout",
     "output_type": "stream",
     "text": [
      "20\n",
      "10\n",
      "10\n",
      "20\n",
      "10\n",
      "20\n"
     ]
    }
   ],
   "source": [
    "def add(c,d):\n",
    "  print(c)\n",
    "  print(d)\n",
    "x=10\n",
    "y=20\n",
    "add(y,x)\n",
    "add(x,y)\n",
    "add(d=y,c=x)"
   ]
  },
  {
   "cell_type": "code",
   "execution_count": null,
   "id": "10a6ce7d",
   "metadata": {},
   "outputs": [],
   "source": [
    "def add(a,b):\n",
    "  return a+b\n",
    "add(5,10)"
   ]
  },
  {
   "cell_type": "code",
   "execution_count": null,
   "id": "8703753c",
   "metadata": {},
   "outputs": [],
   "source": [
    "def add(a,b):\n",
    "  return a+b\n",
    "x=add(12,13)\n",
    "print(x+30)"
   ]
  },
  {
   "cell_type": "code",
   "execution_count": null,
   "id": "f5c7b9e5",
   "metadata": {},
   "outputs": [],
   "source": [
    "def add(a,b):\n",
    "  return a+b\n",
    "def sub(a,b):\n",
    "  return a-b\n",
    "def mul(a,b):\n",
    "  return a*b\n",
    "def div(a,b):\n",
    "  return a/b\n",
    "a=10\n",
    "b=20\n",
    "print(add(a,b))\n",
    "print(sub(a,b))\n",
    "print(mul(a,b))\n",
    "print(div(a,b))"
   ]
  },
  {
   "cell_type": "code",
   "execution_count": null,
   "id": "f80ad140",
   "metadata": {},
   "outputs": [],
   "source": [
    "def add (a,b):\n",
    "    print(a+b)\n",
    "a=int(input())\n",
    "b=int(input())\n",
    "add(a,b)"
   ]
  },
  {
   "cell_type": "code",
   "execution_count": null,
   "id": "b1e7aae6",
   "metadata": {},
   "outputs": [],
   "source": [
    "x= int(input('enter first num:'))\n",
    "y= int(input('enter second num:'))\n",
    "print(\"enter 1 for add\")\n",
    "print(\"enter 2 for sub\")\n",
    "print(\"enter 3 for mul\")\n",
    "print(\"enter 4 for div\")\n",
    "opp= int(input('enter operator:'))\n",
    "cal(x,y,opp)"
   ]
  }
 ],
 "metadata": {
  "kernelspec": {
   "display_name": "Python 3",
   "language": "python",
   "name": "python3"
  },
  "language_info": {
   "codemirror_mode": {
    "name": "ipython",
    "version": 3
   },
   "file_extension": ".py",
   "mimetype": "text/x-python",
   "name": "python",
   "nbconvert_exporter": "python",
   "pygments_lexer": "ipython3",
   "version": "3.10.11"
  }
 },
 "nbformat": 4,
 "nbformat_minor": 5
}
