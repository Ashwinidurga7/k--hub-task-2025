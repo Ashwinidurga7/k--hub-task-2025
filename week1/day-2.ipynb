{
 "cells": [
  {
   "cell_type": "markdown",
   "id": "c6d300dd",
   "metadata": {},
   "source": [
    "*KHUB DAY-2 TASK*"
   ]
  },
  {
   "cell_type": "markdown",
   "id": "8175aed5",
   "metadata": {},
   "source": [
    "*Loops*\n",
    "\n",
    "What is a Loop?\n",
    "\n",
    "A loop is a way to repeat a block of code again and again until a condition is met."
   ]
  },
  {
   "cell_type": "markdown",
   "id": "146f47d2",
   "metadata": {},
   "source": [
    "Simple Example:\n",
    "\n",
    "Instead of writing:"
   ]
  },
  {
   "cell_type": "code",
   "execution_count": 24,
   "id": "58c9e8d1",
   "metadata": {},
   "outputs": [
    {
     "name": "stdout",
     "output_type": "stream",
     "text": [
      "Hello\n",
      "Hello\n",
      "Hello\n"
     ]
    }
   ],
   "source": [
    "print(\"Hello\")\n",
    "print(\"Hello\")\n",
    "print(\"Hello\")\n"
   ]
  },
  {
   "cell_type": "markdown",
   "id": "7e9f55bc",
   "metadata": {},
   "source": [
    "\n",
    "You can write:"
   ]
  },
  {
   "cell_type": "code",
   "execution_count": 7,
   "id": "c60df8b3",
   "metadata": {},
   "outputs": [
    {
     "name": "stdout",
     "output_type": "stream",
     "text": [
      "Hello\n",
      "Hello\n",
      "Hello\n"
     ]
    }
   ],
   "source": [
    "for i in range(3):\n",
    "    print(\"Hello\")\n"
   ]
  },
  {
   "cell_type": "markdown",
   "id": "59f84011",
   "metadata": {},
   "source": [
    "This prints \"Hello\" 3 times using a loop."
   ]
  },
  {
   "cell_type": "markdown",
   "id": "7751326b",
   "metadata": {},
   "source": [
    "*for Loop*: Repeats a block of code a fixed number of times.\n",
    "\n",
    "Syntax:"
   ]
  },
  {
   "cell_type": "code",
   "execution_count": 8,
   "id": "2e259755",
   "metadata": {},
   "outputs": [
    {
     "name": "stdout",
     "output_type": "stream",
     "text": [
      "0\n",
      "1\n",
      "2\n",
      "3\n",
      "4\n"
     ]
    }
   ],
   "source": [
    "for i in range(5):\n",
    "    print(i)\n"
   ]
  },
  {
   "cell_type": "markdown",
   "id": "9059de1d",
   "metadata": {},
   "source": [
    "range(5) means: start from 0, go up to 4."
   ]
  },
  {
   "cell_type": "markdown",
   "id": "8991a092",
   "metadata": {},
   "source": [
    "Use with lists/strings/tuples:"
   ]
  },
  {
   "cell_type": "code",
   "execution_count": 9,
   "id": "9c4c68c1",
   "metadata": {},
   "outputs": [
    {
     "name": "stdout",
     "output_type": "stream",
     "text": [
      "apple\n",
      "banana\n"
     ]
    }
   ],
   "source": [
    "for fruit in ['apple', 'banana']:\n",
    "    print(fruit)\n"
   ]
  },
  {
   "cell_type": "code",
   "execution_count": 10,
   "id": "6bd33529",
   "metadata": {},
   "outputs": [
    {
     "name": "stdout",
     "output_type": "stream",
     "text": [
      "h\n",
      "i\n"
     ]
    }
   ],
   "source": [
    "for letter in \"hi\":\n",
    "    print(letter)\n"
   ]
  },
  {
   "cell_type": "markdown",
   "id": "afcefc5b",
   "metadata": {},
   "source": [
    "*while Loop*: Repeats the code as long as the condition is True."
   ]
  },
  {
   "cell_type": "code",
   "execution_count": 11,
   "id": "82f7c30c",
   "metadata": {},
   "outputs": [
    {
     "name": "stdout",
     "output_type": "stream",
     "text": [
      "0\n",
      "1\n",
      "2\n"
     ]
    }
   ],
   "source": [
    "count = 0\n",
    "while count < 3:\n",
    "    print(count)\n",
    "    count += 1\n"
   ]
  },
  {
   "cell_type": "markdown",
   "id": "bd677821",
   "metadata": {},
   "source": [
    "*Loop Control Statements*\n",
    "\n",
    "*break* – Stops the loop:"
   ]
  },
  {
   "cell_type": "code",
   "execution_count": 12,
   "id": "1ab4833d",
   "metadata": {},
   "outputs": [
    {
     "name": "stdout",
     "output_type": "stream",
     "text": [
      "0\n",
      "1\n",
      "2\n"
     ]
    }
   ],
   "source": [
    "for i in range(5):\n",
    "    if i == 3:\n",
    "        break\n",
    "    print(i)\n"
   ]
  },
  {
   "cell_type": "markdown",
   "id": "0a1b9177",
   "metadata": {},
   "source": [
    "*continue* – Skips one time and moves to next loop:"
   ]
  },
  {
   "cell_type": "code",
   "execution_count": 13,
   "id": "fb1b2609",
   "metadata": {},
   "outputs": [
    {
     "name": "stdout",
     "output_type": "stream",
     "text": [
      "0\n",
      "1\n",
      "3\n",
      "4\n"
     ]
    }
   ],
   "source": [
    "for i in range(5):\n",
    "    if i == 2:\n",
    "        continue\n",
    "    print(i)\n"
   ]
  },
  {
   "cell_type": "markdown",
   "id": "68ab9daa",
   "metadata": {},
   "source": [
    "*pass* – Does nothing (used to write code later):"
   ]
  },
  {
   "cell_type": "code",
   "execution_count": 14,
   "id": "e2e1c622",
   "metadata": {},
   "outputs": [],
   "source": [
    "for i in range(3):\n",
    "    pass  # I’ll write this later\n"
   ]
  },
  {
   "cell_type": "markdown",
   "id": "0226a2c0",
   "metadata": {},
   "source": [
    "*Loop with* else\n",
    "\n",
    "else block runs only if loop completes normally (no break):"
   ]
  },
  {
   "cell_type": "code",
   "execution_count": 15,
   "id": "a08819f6",
   "metadata": {},
   "outputs": [
    {
     "name": "stdout",
     "output_type": "stream",
     "text": [
      "0\n",
      "1\n",
      "2\n",
      "Finished without break\n"
     ]
    }
   ],
   "source": [
    "for i in range(3):\n",
    "    print(i)\n",
    "else:\n",
    "    print(\"Finished without break\")\n"
   ]
  },
  {
   "cell_type": "markdown",
   "id": "4ef6d880",
   "metadata": {},
   "source": [
    " *Nested Loops*\n",
    " \n",
    "A loop inside another loop:"
   ]
  },
  {
   "cell_type": "code",
   "execution_count": 16,
   "id": "a6d3239c",
   "metadata": {},
   "outputs": [
    {
     "name": "stdout",
     "output_type": "stream",
     "text": [
      "0 0\n",
      "0 1\n",
      "0 2\n",
      "1 0\n",
      "1 1\n",
      "1 2\n"
     ]
    }
   ],
   "source": [
    "for i in range(2):\n",
    "    for j in range(3):\n",
    "        print(i, j)\n"
   ]
  },
  {
   "cell_type": "markdown",
   "id": "63503709",
   "metadata": {},
   "source": [
    "*Functions – Main Topics*\n",
    "1. Defining and Calling Functions\n",
    "\n",
    "*def keyword* – used to create a function:"
   ]
  },
  {
   "cell_type": "code",
   "execution_count": 17,
   "id": "a1757b20",
   "metadata": {},
   "outputs": [
    {
     "name": "stdout",
     "output_type": "stream",
     "text": [
      "Hello\n"
     ]
    }
   ],
   "source": [
    "def greet():\n",
    "    print(\"Hello\")\n",
    "\n",
    "greet()\n"
   ]
  },
  {
   "cell_type": "markdown",
   "id": "5b9ebbb6",
   "metadata": {},
   "source": [
    "*return keyword* – sends a value back:"
   ]
  },
  {
   "cell_type": "code",
   "execution_count": 18,
   "id": "eb2266ba",
   "metadata": {},
   "outputs": [
    {
     "name": "stdout",
     "output_type": "stream",
     "text": [
      "5\n"
     ]
    }
   ],
   "source": [
    "def add(a, b):\n",
    "    return a + b\n",
    "\n",
    "result = add(2, 3)\n",
    "print(result)\n"
   ]
  },
  {
   "cell_type": "markdown",
   "id": "fcd4de43",
   "metadata": {},
   "source": [
    "*Function Arguments*\n",
    "\n",
    "*Positional* – Based on the order:"
   ]
  },
  {
   "cell_type": "code",
   "execution_count": 19,
   "id": "82a225ab",
   "metadata": {},
   "outputs": [
    {
     "name": "stdout",
     "output_type": "stream",
     "text": [
      "Ashwini 20\n"
     ]
    }
   ],
   "source": [
    "def greet(name, age):\n",
    "    print(name, age)\n",
    "\n",
    "greet(\"Ashwini\", 20)\n"
   ]
  },
  {
   "cell_type": "markdown",
   "id": "510c0340",
   "metadata": {},
   "source": [
    "*Default* – If no value is given:"
   ]
  },
  {
   "cell_type": "code",
   "execution_count": 20,
   "id": "db19642b",
   "metadata": {},
   "outputs": [
    {
     "name": "stdout",
     "output_type": "stream",
     "text": [
      "Hello Guest\n"
     ]
    }
   ],
   "source": [
    "def greet(name=\"Guest\"):\n",
    "    print(\"Hello\", name)\n",
    "\n",
    "greet()\n"
   ]
  },
  {
   "cell_type": "markdown",
   "id": "5b5993c9",
   "metadata": {},
   "source": [
    "*Keyword* – Mention name of argument:"
   ]
  },
  {
   "cell_type": "code",
   "execution_count": 23,
   "id": "341d52c2",
   "metadata": {},
   "outputs": [
    {
     "name": "stdout",
     "output_type": "stream",
     "text": [
      "Hello Ashwini, you are 20 years old.\n"
     ]
    }
   ],
   "source": [
    "def greet(name, age):\n",
    "    print(f\"Hello {name}, you are {age} years old.\")\n",
    "\n",
    "\n",
    "greet(age=20, name=\"Ashwini\")\n"
   ]
  },
  {
   "cell_type": "markdown",
   "id": "8c8d39d9",
   "metadata": {},
   "source": [
    "*args – Accepts many positional values"
   ]
  },
  {
   "cell_type": "code",
   "execution_count": null,
   "id": "43184fc1",
   "metadata": {},
   "outputs": [],
   "source": [
    "def total(*numbers):\n",
    "    print(sum(numbers))\n",
    "\n",
    "total(1, 2, 3)\n"
   ]
  },
  {
   "cell_type": "markdown",
   "id": "46170b76",
   "metadata": {},
   "source": [
    "**kwargs – Accepts many keyword arguments:"
   ]
  },
  {
   "cell_type": "code",
   "execution_count": null,
   "id": "edfa10b0",
   "metadata": {},
   "outputs": [],
   "source": [
    "def show_info(**info):\n",
    "    print(info)\n",
    "\n",
    "show_info(name=\"Ashwini\", age=20)\n"
   ]
  },
  {
   "cell_type": "markdown",
   "id": "adbb9279",
   "metadata": {},
   "source": [
    "*Scope of Variables*\n",
    "\n",
    "*Local* – Variable inside function:"
   ]
  },
  {
   "cell_type": "code",
   "execution_count": null,
   "id": "c6b0fe56",
   "metadata": {},
   "outputs": [],
   "source": [
    "def test():\n",
    "    x = 5\n",
    "    print(x)\n"
   ]
  },
  {
   "cell_type": "markdown",
   "id": "3ca9c087",
   "metadata": {},
   "source": [
    "*Global* – Variable outside function:"
   ]
  },
  {
   "cell_type": "code",
   "execution_count": null,
   "id": "e8655ae6",
   "metadata": {},
   "outputs": [],
   "source": [
    "x = 10\n",
    "\n",
    "def show():\n",
    "    print(x)\n"
   ]
  },
  {
   "cell_type": "markdown",
   "id": "8d814df0",
   "metadata": {
    "notebookRunGroups": {
     "groupValue": "2"
    }
   },
   "source": [
    "global keyword – To change global variable inside function:"
   ]
  },
  {
   "cell_type": "code",
   "execution_count": null,
   "id": "e365791b",
   "metadata": {},
   "outputs": [],
   "source": [
    "x = 5\n",
    "\n",
    "def change():\n",
    "    global x\n",
    "    x = 10\n"
   ]
  },
  {
   "cell_type": "markdown",
   "id": "01119c11",
   "metadata": {},
   "source": [
    "*Lambda Functions*\n",
    "\n",
    "One-line function without def:"
   ]
  },
  {
   "cell_type": "code",
   "execution_count": null,
   "id": "8632d4c7",
   "metadata": {},
   "outputs": [],
   "source": [
    "add = lambda a, b: a + b\n",
    "print(add(2, 3))\n"
   ]
  },
  {
   "cell_type": "markdown",
   "id": "bbe204b7",
   "metadata": {},
   "source": [
    "*With map():*"
   ]
  },
  {
   "cell_type": "code",
   "execution_count": null,
   "id": "7efc2872",
   "metadata": {},
   "outputs": [],
   "source": [
    "nums = [1, 2, 3]\n",
    "squares = list(map(lambda x: x*x, nums))\n",
    "print(squares)\n"
   ]
  },
  {
   "cell_type": "markdown",
   "id": "c88ce039",
   "metadata": {},
   "source": [
    "*With filter():*"
   ]
  },
  {
   "cell_type": "code",
   "execution_count": null,
   "id": "dee200e3",
   "metadata": {},
   "outputs": [],
   "source": [
    "nums = [1, 2, 3, 4]\n",
    "even = list(filter(lambda x: x%2 == 0, nums))\n",
    "print(even)\n"
   ]
  }
 ],
 "metadata": {
  "kernelspec": {
   "display_name": "Python 3",
   "language": "python",
   "name": "python3"
  },
  "language_info": {
   "codemirror_mode": {
    "name": "ipython",
    "version": 3
   },
   "file_extension": ".py",
   "mimetype": "text/x-python",
   "name": "python",
   "nbconvert_exporter": "python",
   "pygments_lexer": "ipython3",
   "version": "3.10.11"
  }
 },
 "nbformat": 4,
 "nbformat_minor": 5
}
