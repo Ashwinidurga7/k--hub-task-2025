{
 "cells": [
  {
   "cell_type": "markdown",
   "id": "09ceb665",
   "metadata": {},
   "source": [
    "🔹 1. Factorial using Recursion\n",
    "\n",
    " Formula:\n",
    "n!=n×(n−1)×(n−2)×...×1\n",
    "Base case: 0!=1\n"
   ]
  },
  {
   "cell_type": "code",
   "execution_count": null,
   "id": "923a1383",
   "metadata": {},
   "outputs": [
    {
     "name": "stdout",
     "output_type": "stream",
     "text": [
      "120\n"
     ]
    }
   ],
   "source": [
    "def factorial(n):\n",
    "    if n == 0 or n == 1:   \n",
    "        return 1\n",
    "    else:\n",
    "        return n * factorial(n - 1)  \n",
    "\n",
    "print(factorial(5))   \n"
   ]
  },
  {
   "cell_type": "markdown",
   "id": "cb75e1be",
   "metadata": {},
   "source": [
    "Flow for factorial(5):\n",
    "5 * factorial(4) → 5 * (4 * factorial(3)) → 5*4*3*2*1"
   ]
  },
  {
   "cell_type": "markdown",
   "id": "e08a0b04",
   "metadata": {},
   "source": [
    "2. Fibonacci Series using Recursion\n",
    "\n",
    " Formula:\n",
    " F(n)=F(n−1)+F(n−2)\n",
    "\n",
    " with\n",
    " F(0)=0,F(1)=1"
   ]
  },
  {
   "cell_type": "code",
   "execution_count": null,
   "id": "1eb683d6",
   "metadata": {},
   "outputs": [
    {
     "name": "stdout",
     "output_type": "stream",
     "text": [
      "0 1 1 2 3 5 8 13 21 34 "
     ]
    }
   ],
   "source": [
    "def fibonacci(n):\n",
    "    if n == 0:   \n",
    "        return 0\n",
    "    elif n == 1:\n",
    "        return 1\n",
    "    else:\n",
    "        return fibonacci(n-1) + fibonacci(n-2)  \n",
    "\n",
    "for i in range(10):\n",
    "    print(fibonacci(i), end=\" \")\n"
   ]
  },
  {
   "cell_type": "markdown",
   "id": "587d8b4b",
   "metadata": {},
   "source": [
    "3. Reverse a String using Recursion\n",
    "\n",
    " Idea:\n",
    "Take the last character + reverse of remaining string."
   ]
  },
  {
   "cell_type": "code",
   "execution_count": null,
   "id": "ab1fd85a",
   "metadata": {},
   "outputs": [
    {
     "name": "stdout",
     "output_type": "stream",
     "text": [
      "olleh\n"
     ]
    }
   ],
   "source": [
    "def reverse_string(s):\n",
    "    if len(s) == 0:   \n",
    "        return s\n",
    "    else:\n",
    "        return reverse_string(s[1:]) + s[0]  \n",
    "\n",
    "\n",
    "print(reverse_string(\"hello\"))   \n"
   ]
  },
  {
   "cell_type": "markdown",
   "id": "cd42d41e",
   "metadata": {},
   "source": [
    "Flow:\n",
    "reverse(\"hello\") → reverse(\"ello\") + 'h' → … → 'olleh'"
   ]
  },
  {
   "cell_type": "markdown",
   "id": "d146a888",
   "metadata": {},
   "source": [
    "Dry Run of Fibonacci(5)"
   ]
  },
  {
   "cell_type": "code",
   "execution_count": 5,
   "id": "f82df95b",
   "metadata": {},
   "outputs": [
    {
     "name": "stdout",
     "output_type": "stream",
     "text": [
      "102334155\n"
     ]
    }
   ],
   "source": [
    "\n",
    "def fibonacci(n):\n",
    "    if n == 0:\n",
    "        return 0\n",
    "    elif n == 1:\n",
    "        return 1\n",
    "    else:\n",
    "        return fibonacci(n-1) + fibonacci(n-2)\n",
    "print(fibonacci(40))"
   ]
  },
  {
   "cell_type": "code",
   "execution_count": null,
   "id": "f0170345",
   "metadata": {},
   "outputs": [
    {
     "name": "stdout",
     "output_type": "stream",
     "text": [
      "fibonacci(5) = 5\n"
     ]
    }
   ],
   "source": [
    "def fibonacci(n):\n",
    "    if n == 0:   \n",
    "        return 0\n",
    "    elif n == 1:\n",
    "        return 1\n",
    "    else:\n",
    "        return fibonacci(n-1) + fibonacci(n-2)  \n",
    "\n",
    "print(\"fibonacci(5) =\", fibonacci(5))"
   ]
  },
  {
   "cell_type": "code",
   "execution_count": null,
   "id": "02a7d1c7",
   "metadata": {},
   "outputs": [
    {
     "name": "stdout",
     "output_type": "stream",
     "text": [
      "First 10 Fibonacci numbers:\n",
      "0 1 1 2 3 5 8 13 21 34 "
     ]
    }
   ],
   "source": [
    "def fibonacci(n):\n",
    "    if n == 0:   \n",
    "        return 0\n",
    "    elif n == 1:\n",
    "        return 1\n",
    "    else:\n",
    "        return fibonacci(n-1) + fibonacci(n-2)  \n",
    "\n",
    "\n",
    "print(\"First 10 Fibonacci numbers:\")\n",
    "for i in range(10):\n",
    "    print(fibonacci(i), end=\" \")\n"
   ]
  },
  {
   "cell_type": "markdown",
   "id": "4c13445b",
   "metadata": {},
   "source": [
    "1. Sum of Digits\n",
    "\n",
    " Example: 123 → 1+2+3 = 6"
   ]
  },
  {
   "cell_type": "code",
   "execution_count": 11,
   "id": "c3ea860c",
   "metadata": {},
   "outputs": [
    {
     "name": "stdout",
     "output_type": "stream",
     "text": [
      "15\n"
     ]
    }
   ],
   "source": [
    "def sum_of_digits(n):\n",
    "    if n == 0:\n",
    "        return 0\n",
    "    else:\n",
    "        return (n % 10) + sum_of_digits(n // 10)\n",
    "\n",
    "print(sum_of_digits(12345))  \n"
   ]
  },
  {
   "cell_type": "markdown",
   "id": "a18c02c6",
   "metadata": {},
   "source": [
    "2. Palindrome Check (using recursion)\n",
    "\n",
    " Palindrome: A word that reads same forwards & backwards."
   ]
  },
  {
   "cell_type": "code",
   "execution_count": 10,
   "id": "ccdbbbc7",
   "metadata": {},
   "outputs": [
    {
     "name": "stdout",
     "output_type": "stream",
     "text": [
      "True\n",
      "False\n"
     ]
    }
   ],
   "source": [
    "def is_palindrome(s):\n",
    "    if len(s) <= 1:   \n",
    "        return True\n",
    "    if s[0] != s[-1]:\n",
    "        return False\n",
    "    return is_palindrome(s[1:-1])   \n",
    "\n",
    "print(is_palindrome(\"madam\")) \n",
    "print(is_palindrome(\"hello\"))  \n"
   ]
  },
  {
   "cell_type": "markdown",
   "id": "dd1496ff",
   "metadata": {},
   "source": [
    "3. Sum of First N Natural Numbers\n",
    "\n",
    " Formula: 1+2+...+n"
   ]
  },
  {
   "cell_type": "code",
   "execution_count": 9,
   "id": "3eb4cc23",
   "metadata": {},
   "outputs": [
    {
     "name": "stdout",
     "output_type": "stream",
     "text": [
      "15\n"
     ]
    }
   ],
   "source": [
    "def sum_natural(n):\n",
    "    if n == 0:\n",
    "        return 0\n",
    "    else:\n",
    "        return n + sum_natural(n - 1)\n",
    "\n",
    "print(sum_natural(5))  \n"
   ]
  },
  {
   "cell_type": "markdown",
   "id": "59687507",
   "metadata": {},
   "source": [
    "4. Power Function (x^n)\n",
    "\n",
    " Example: 2^5 = 32"
   ]
  },
  {
   "cell_type": "code",
   "execution_count": 8,
   "id": "0a6fb291",
   "metadata": {},
   "outputs": [
    {
     "name": "stdout",
     "output_type": "stream",
     "text": [
      "32\n"
     ]
    }
   ],
   "source": [
    "def power(x, n):\n",
    "    if n == 0:\n",
    "        return 1\n",
    "    return x * power(x, n - 1)\n",
    "\n",
    "print(power(2, 5)) \n"
   ]
  }
 ],
 "metadata": {
  "kernelspec": {
   "display_name": "Python 3",
   "language": "python",
   "name": "python3"
  },
  "language_info": {
   "codemirror_mode": {
    "name": "ipython",
    "version": 3
   },
   "file_extension": ".py",
   "mimetype": "text/x-python",
   "name": "python",
   "nbconvert_exporter": "python",
   "pygments_lexer": "ipython3",
   "version": "3.10.11"
  }
 },
 "nbformat": 4,
 "nbformat_minor": 5
}
