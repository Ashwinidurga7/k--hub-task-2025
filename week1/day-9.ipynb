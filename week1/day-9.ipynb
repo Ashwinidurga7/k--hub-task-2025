{
 "cells": [
  {
   "cell_type": "markdown",
   "id": "d105acca",
   "metadata": {},
   "source": [
    "# KHUB DAY-9 TASK\n",
    "**OOPs in Python**"
   ]
  },
  {
   "cell_type": "markdown",
   "id": "398c4270",
   "metadata": {},
   "source": [
    "1. What is OOP?\n",
    "\n",
    "Object-Oriented Programming (OOP) is a programming paradigm that organizes code into classes and objects.\n",
    "\n",
    "It helps in reusability, scalability, and modularity."
   ]
  },
  {
   "cell_type": "markdown",
   "id": "f7fdf1e2",
   "metadata": {},
   "source": [
    "2. Basic Terms\n",
    "\n",
    "Class → Blueprint/template (like a design).\n",
    "\n",
    "Object → Instance of a class (like a real product).\n",
    "\n",
    "Attributes → Variables inside a class (data/properties).\n",
    "\n",
    "Methods → Functions inside a class (actions/behavior)."
   ]
  },
  {
   "cell_type": "markdown",
   "id": "a12c52a1",
   "metadata": {},
   "source": [
    "3. Four Pillars of OOP\n",
    "\n",
    "Encapsulation → Wrapping variables & methods in a class.\n",
    "\n",
    "Abstraction → Hiding unnecessary details, showing only essential features.\n",
    "\n",
    "Inheritance → One class inherits properties/methods of another.\n",
    "\n",
    "Polymorphism → Same function name behaves differently depending on context."
   ]
  },
  {
   "cell_type": "markdown",
   "id": "d4bb444d",
   "metadata": {},
   "source": [
    "🔹 Python Code Examples\n",
    "1. Class & Object"
   ]
  },
  {
   "cell_type": "code",
   "execution_count": 6,
   "id": "5673b473",
   "metadata": {},
   "outputs": [
    {
     "name": "stdout",
     "output_type": "stream",
     "text": [
      "Car: Toyota Innova\n"
     ]
    }
   ],
   "source": [
    "class Car:\n",
    "    def __init__(self, brand, model):\n",
    "        self.brand = brand   \n",
    "        self.model = model\n",
    "\n",
    "    def show(self):  \n",
    "        print(f\"Car: {self.brand} {self.model}\")\n",
    "\n",
    "c1 = Car(\"Toyota\", \"Innova\")\n",
    "c1.show()\n"
   ]
  },
  {
   "cell_type": "markdown",
   "id": "8633caf4",
   "metadata": {},
   "source": [
    "2. Encapsulation"
   ]
  },
  {
   "cell_type": "code",
   "execution_count": 5,
   "id": "6a164724",
   "metadata": {},
   "outputs": [
    {
     "name": "stdout",
     "output_type": "stream",
     "text": [
      "Ashwini 95\n"
     ]
    }
   ],
   "source": [
    "class Student:\n",
    "    def __init__(self, name, marks):\n",
    "        self.__name = name      \n",
    "        self.__marks = marks\n",
    "\n",
    "    def show(self):\n",
    "        print(self.__name, self.__marks)\n",
    "\n",
    "s1 = Student(\"Ashwini\", 95)\n",
    "s1.show()\n"
   ]
  },
  {
   "cell_type": "markdown",
   "id": "dd84d479",
   "metadata": {},
   "source": [
    "3. Abstraction (using ABC module)"
   ]
  },
  {
   "cell_type": "code",
   "execution_count": 4,
   "id": "8ea0d627",
   "metadata": {},
   "outputs": [
    {
     "name": "stdout",
     "output_type": "stream",
     "text": [
      "Bark\n",
      "Meow\n"
     ]
    }
   ],
   "source": [
    "from abc import ABC, abstractmethod\n",
    "\n",
    "class Animal(ABC):\n",
    "    @abstractmethod\n",
    "    def sound(self):\n",
    "        pass\n",
    "\n",
    "class Dog(Animal):\n",
    "    def sound(self):\n",
    "        return \"Bark\"\n",
    "\n",
    "class Cat(Animal):\n",
    "    def sound(self):\n",
    "        return \"Meow\"\n",
    "\n",
    "print(Dog().sound())\n",
    "print(Cat().sound())\n"
   ]
  },
  {
   "cell_type": "markdown",
   "id": "60170be4",
   "metadata": {},
   "source": [
    "4. Inheritance"
   ]
  },
  {
   "cell_type": "code",
   "execution_count": 3,
   "id": "4d0a5ca9",
   "metadata": {},
   "outputs": [
    {
     "name": "stdout",
     "output_type": "stream",
     "text": [
      "Hello from Child\n"
     ]
    }
   ],
   "source": [
    "class Parent:\n",
    "    def greet(self):\n",
    "        print(\"Hello from Parent\")\n",
    "\n",
    "class Child(Parent):\n",
    "    def greet(self):\n",
    "        print(\"Hello from Child\")\n",
    "\n",
    "c = Child()\n",
    "c.greet()\n"
   ]
  },
  {
   "cell_type": "markdown",
   "id": "aeaf01d1",
   "metadata": {},
   "source": [
    "5. Polymorphism"
   ]
  },
  {
   "cell_type": "code",
   "execution_count": 2,
   "id": "d2342bc1",
   "metadata": {},
   "outputs": [
    {
     "name": "stdout",
     "output_type": "stream",
     "text": [
      "Sparrow flies high\n",
      "Penguins cannot fly\n"
     ]
    }
   ],
   "source": [
    "class Bird:\n",
    "    def fly(self):\n",
    "        print(\"Some birds can fly\")\n",
    "\n",
    "class Sparrow(Bird):\n",
    "    def fly(self):\n",
    "        print(\"Sparrow flies high\")\n",
    "\n",
    "class Penguin(Bird):\n",
    "    def fly(self):\n",
    "        print(\"Penguins cannot fly\")\n",
    "\n",
    "birds = [Sparrow(), Penguin()]\n",
    "\n",
    "for b in birds:\n",
    "    b.fly()   \n"
   ]
  },
  {
   "cell_type": "markdown",
   "id": "64cf57d8",
   "metadata": {},
   "source": [
    "Real-World Example of OOP"
   ]
  },
  {
   "cell_type": "code",
   "execution_count": 1,
   "id": "57b20a5d",
   "metadata": {},
   "outputs": [
    {
     "name": "stdout",
     "output_type": "stream",
     "text": [
      "Deposited 500, Balance = 1500\n",
      "Withdrawn 300, Balance = 1200\n"
     ]
    }
   ],
   "source": [
    "class BankAccount:\n",
    "    def __init__(self, account_holder, balance=0):\n",
    "        self.account_holder = account_holder\n",
    "        self.balance = balance\n",
    "\n",
    "    def deposit(self, amount):\n",
    "        self.balance += amount\n",
    "        print(f\"Deposited {amount}, Balance = {self.balance}\")\n",
    "\n",
    "    def withdraw(self, amount):\n",
    "        if amount <= self.balance:\n",
    "            self.balance -= amount\n",
    "            print(f\"Withdrawn {amount}, Balance = {self.balance}\")\n",
    "        else:\n",
    "            print(\"Insufficient funds\")\n",
    "\n",
    "acc1 = BankAccount(\"Ashwini\", 1000)\n",
    "acc1.deposit(500)\n",
    "acc1.withdraw(300)\n"
   ]
  }
 ],
 "metadata": {
  "kernelspec": {
   "display_name": "Python 3",
   "language": "python",
   "name": "python3"
  },
  "language_info": {
   "codemirror_mode": {
    "name": "ipython",
    "version": 3
   },
   "file_extension": ".py",
   "mimetype": "text/x-python",
   "name": "python",
   "nbconvert_exporter": "python",
   "pygments_lexer": "ipython3",
   "version": "3.10.11"
  }
 },
 "nbformat": 4,
 "nbformat_minor": 5
}
