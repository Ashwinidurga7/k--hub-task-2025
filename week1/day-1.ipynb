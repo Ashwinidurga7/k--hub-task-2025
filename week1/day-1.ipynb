{
 "cells": [
  {
   "cell_type": "markdown",
   "id": "a264fb22",
   "metadata": {},
   "source": [
    "#**KHUB DAY- 1** **TASK**\n",
    "\n",
    "#*STRING*:\n",
    "String consists of letters, numbers, symbols which combines using (' ',\" \")"
   ]
  },
  {
   "cell_type": "code",
   "execution_count": 4,
   "id": "3717cd2b",
   "metadata": {},
   "outputs": [
    {
     "name": "stdout",
     "output_type": "stream",
     "text": [
      "ashwini\n"
     ]
    }
   ],
   "source": [
    "name= \"ashwini\"\n",
    "print(name)"
   ]
  },
  {
   "cell_type": "markdown",
   "id": "4ec82b2a",
   "metadata": {},
   "source": [
    "String methods: lower case() : It converts a letters into smaller"
   ]
  },
  {
   "cell_type": "code",
   "execution_count": null,
   "id": "51cb15fb",
   "metadata": {},
   "outputs": [],
   "source": [
    "\"Ashwini\".lower()"
   ]
  },
  {
   "cell_type": "markdown",
   "id": "bee2bb4d",
   "metadata": {},
   "source": [
    "There are some common string methods. those are lower() , upper() , strip() , replace() , split() , len()"
   ]
  },
  {
   "cell_type": "markdown",
   "id": "49374a2f",
   "metadata": {},
   "source": [
    "\n",
    "Upper case() : It converts the letters into capital"
   ]
  },
  {
   "cell_type": "code",
   "execution_count": null,
   "id": "c08050c7",
   "metadata": {},
   "outputs": [],
   "source": [
    "\"Ashwini\".upper()"
   ]
  },
  {
   "cell_type": "markdown",
   "id": "cdfeaf5c",
   "metadata": {},
   "source": [
    "Strip() : It removes white spaces"
   ]
  },
  {
   "cell_type": "code",
   "execution_count": null,
   "id": "e21c6dac",
   "metadata": {},
   "outputs": [],
   "source": [
    "\"ashwini \".strip()"
   ]
  },
  {
   "cell_type": "markdown",
   "id": "aa43d512",
   "metadata": {},
   "source": [
    "Replace() : It replaces letters"
   ]
  },
  {
   "cell_type": "code",
   "execution_count": null,
   "id": "6dc53f16",
   "metadata": {},
   "outputs": [
    {
     "data": {
      "text/plain": [
       "'Ashwini'"
      ]
     },
     "execution_count": 2,
     "metadata": {},
     "output_type": "execute_result"
    }
   ],
   "source": [
    "\"ashwini\".replace(\"a\",\"A\")"
   ]
  },
  {
   "cell_type": "markdown",
   "id": "8ff3e2f2",
   "metadata": {},
   "source": [
    "\n",
    "Split() : It divides string to list of words"
   ]
  },
  {
   "cell_type": "code",
   "execution_count": null,
   "id": "3046fe61",
   "metadata": {},
   "outputs": [],
   "source": [
    "\"ashwini durga\".split()"
   ]
  },
  {
   "cell_type": "markdown",
   "id": "902c6b73",
   "metadata": {},
   "source": [
    "len() : It gives string length"
   ]
  },
  {
   "cell_type": "code",
   "execution_count": null,
   "id": "3f3057c7",
   "metadata": {},
   "outputs": [],
   "source": [
    "len(\"Ashwini\")"
   ]
  },
  {
   "cell_type": "markdown",
   "id": "2219dc9e",
   "metadata": {},
   "source": [
    "BOOLEAN\n",
    "      Used in logical and conditions\n",
    "      there are some comparisons....\n",
    "      \n",
    "      ==equal\n",
    "\n",
    "Example :"
   ]
  },
  {
   "cell_type": "code",
   "execution_count": null,
   "id": "0570c00c",
   "metadata": {},
   "outputs": [],
   "source": [
    "10==10"
   ]
  },
  {
   "cell_type": "markdown",
   "id": "58e36012",
   "metadata": {},
   "source": [
    "!= not eqal\n",
    "\n",
    "Example :"
   ]
  },
  {
   "cell_type": "code",
   "execution_count": null,
   "id": "13c39788",
   "metadata": {},
   "outputs": [],
   "source": [
    "5!=3"
   ]
  },
  {
   "cell_type": "markdown",
   "id": "21cdc88a",
   "metadata": {},
   "source": [
    ">greater than\n",
    "\n",
    "Example :"
   ]
  },
  {
   "cell_type": "code",
   "execution_count": null,
   "id": "df56a26d",
   "metadata": {},
   "outputs": [],
   "source": [
    "25>3"
   ]
  },
  {
   "cell_type": "markdown",
   "id": "3f9415d6",
   "metadata": {},
   "source": [
    "< less than\n",
    "\n",
    "Example :"
   ]
  },
  {
   "cell_type": "code",
   "execution_count": null,
   "id": "695f3316",
   "metadata": {},
   "outputs": [],
   "source": [
    "12<30"
   ]
  },
  {
   "cell_type": "markdown",
   "id": "f18daa1c",
   "metadata": {},
   "source": [
    "= greater than\n",
    "\n",
    "Example :"
   ]
  },
  {
   "cell_type": "code",
   "execution_count": null,
   "id": "c37e6112",
   "metadata": {},
   "outputs": [],
   "source": [
    "12>=12"
   ]
  },
  {
   "cell_type": "markdown",
   "id": "cfcbea29",
   "metadata": {},
   "source": [
    "<= less than or equal\n",
    "\n",
    "Example :"
   ]
  },
  {
   "cell_type": "code",
   "execution_count": null,
   "id": "1946636b",
   "metadata": {},
   "outputs": [],
   "source": [
    "6<=9"
   ]
  },
  {
   "cell_type": "markdown",
   "id": "4b05433b",
   "metadata": {},
   "source": [
    "#*OPERATORS* :\n",
    "\n",
    "and : Both conditions must be true\n",
    "\n",
    "or  : Atleast one condition is true\n",
    "\n",
    "not : Reverse the condition"
   ]
  },
  {
   "cell_type": "code",
   "execution_count": null,
   "id": "46773ea5",
   "metadata": {},
   "outputs": [],
   "source": [
    "x=6\n",
    "print(x>5 and x<10)\n",
    "print(x>5 or x<3)\n",
    "print(not(x==5))"
   ]
  },
  {
   "cell_type": "markdown",
   "id": "78ec2d12",
   "metadata": {},
   "source": [
    "#*LIST* : It adds the value\n",
    "\n",
    "* Ordered\n",
    "\n",
    "* Mutable ( can changes )\n",
    "\n",
    "* Allows duplicates"
   ]
  },
  {
   "cell_type": "code",
   "execution_count": null,
   "id": "91bf4599",
   "metadata": {},
   "outputs": [],
   "source": [
    "fruits = [\"apple\",\"banana\",\"cherry\"]\n",
    "fruits.append(\"orange\")\n",
    "print(fruits)"
   ]
  },
  {
   "cell_type": "markdown",
   "id": "4b8f3371",
   "metadata": {},
   "source": [
    "#*TUPLE* :\n",
    "\n",
    "* Ordered\n",
    "\n",
    "* Immutable ( can't change )\n",
    "\n",
    "* Allows duplicates"
   ]
  },
  {
   "cell_type": "code",
   "execution_count": null,
   "id": "da918607",
   "metadata": {},
   "outputs": [],
   "source": [
    "colours = (\"red\", \"green\", \"black\", \"red\")\n",
    "print(colours)"
   ]
  },
  {
   "cell_type": "markdown",
   "id": "5cef2a06",
   "metadata": {},
   "source": [
    "#*SET* :\n",
    "\n",
    "* Unordered\n",
    "\n",
    "* No duplicates\n",
    "\n",
    "* Mutable"
   ]
  },
  {
   "cell_type": "code",
   "execution_count": null,
   "id": "ffd170b9",
   "metadata": {},
   "outputs": [],
   "source": [
    "numbers = {1,2,3,4,5,3}\n",
    "print(numbers)"
   ]
  },
  {
   "cell_type": "markdown",
   "id": "1a44805e",
   "metadata": {},
   "source": [
    "#*DICTIONARY* :\n",
    "\n",
    "* Key Values pairs\n",
    "\n",
    "* Unordered ( python 3.6+ maintains insertion order)"
   ]
  },
  {
   "cell_type": "code",
   "execution_count": null,
   "id": "611d3803",
   "metadata": {},
   "outputs": [],
   "source": [
    "student = {\"name\" : \"ashwini\", \"age\": 20}\n",
    "print (student[\"name\"])"
   ]
  },
  {
   "cell_type": "markdown",
   "id": "e8dc48eb",
   "metadata": {},
   "source": [
    "#*CONDITIONAL STATEMENTS* : Used to perform different actions based conditions.\n",
    "\n",
    "THESE ARE THREE TYPES:\n",
    "\n",
    "* if statement\n",
    "\n",
    "* if else statement\n",
    "\n",
    "* if.... elif... else\n",
    "\n",
    "1) *if statement* : there is only one condition check if the condition is true"
   ]
  },
  {
   "cell_type": "code",
   "execution_count": null,
   "id": "4191f100",
   "metadata": {},
   "outputs": [],
   "source": [
    "x=12\n",
    "if x>5:\n",
    "  print(\"x is greater than 5\")"
   ]
  },
  {
   "cell_type": "markdown",
   "id": "664f7e58",
   "metadata": {},
   "source": [
    "2) if else statement :\n",
    "\n",
    "* if the conditin is true , one block runs\n",
    "\n",
    "* if false , another block runs"
   ]
  },
  {
   "cell_type": "code",
   "execution_count": null,
   "id": "9bceca8a",
   "metadata": {},
   "outputs": [],
   "source": [
    "x=2\n",
    "if x>5:\n",
    "  print (\"x is greater than 5\")\n",
    "\n",
    "else:\n",
    "  print (\"x is not greater than 5\")"
   ]
  },
  {
   "cell_type": "markdown",
   "id": "e069ac31",
   "metadata": {},
   "source": [
    "3) if else... elif ladder\n",
    "\n",
    "* used when you have multiple conditions to check"
   ]
  },
  {
   "cell_type": "code",
   "execution_count": null,
   "id": "568727f4",
   "metadata": {},
   "outputs": [],
   "source": [
    "marks = 86\n",
    "if marks >= 90:\n",
    "  print(\"Grade A\")\n",
    "elif marks >= 80:\n",
    "  print(\"Grade B\")\n",
    "elif marks >= 70:\n",
    "  print(\"Grade C\")\n",
    "elif marks >= 60:\n",
    "  print(\"Grade D\")\n",
    "else:\n",
    "    print(\"Grade F\")"
   ]
  },
  {
   "cell_type": "markdown",
   "id": "ca1ecc61",
   "metadata": {},
   "source": [
    "#*MATCH CASES*\n",
    "\n",
    "* Match case is like switch-case in other languages\n",
    "* It checks onr value agains mulptiple options (cases)\n",
    "* it's available from python 3.10\n",
    "\n",
    "#*syntax :\n",
    "\\* match variable\n",
    "   case value 1\n",
    "   #code block\n",
    "   case value 2\n",
    "   #code block\n",
    "   case-:\n",
    "   #default case"
   ]
  },
  {
   "cell_type": "code",
   "execution_count": null,
   "id": "168c0282",
   "metadata": {},
   "outputs": [],
   "source": [
    "day = \"mon\"\n",
    "\n",
    "match day:\n",
    "    case \"mon\":\n",
    "        print(\"Monday\")\n",
    "    case \"tue\":\n",
    "        print(\"Tuesday\")\n",
    "    case _:\n",
    "        print(\"Invalid day\")"
   ]
  }
 ],
 "metadata": {
  "kernelspec": {
   "display_name": "Python 3",
   "language": "python",
   "name": "python3"
  },
  "language_info": {
   "codemirror_mode": {
    "name": "ipython",
    "version": 3
   },
   "file_extension": ".py",
   "mimetype": "text/x-python",
   "name": "python",
   "nbconvert_exporter": "python",
   "pygments_lexer": "ipython3",
   "version": "3.10.11"
  }
 },
 "nbformat": 4,
 "nbformat_minor": 5
}
